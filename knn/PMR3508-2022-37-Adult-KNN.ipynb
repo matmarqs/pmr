{
 "cells": [
  {
   "cell_type": "code",
   "execution_count": 4,
   "id": "064aac92",
   "metadata": {},
   "outputs": [],
   "source": [
    "# importando bibliotecas\n",
    "import pandas as pd\n",
    "import sklearn as sk\n",
    "import os"
   ]
  },
  {
   "cell_type": "code",
   "execution_count": 7,
   "id": "a426f2f2",
   "metadata": {},
   "outputs": [
    {
     "data": {
      "text/plain": [
       "'/home/11224185/workspace/knn/train_data.csv'"
      ]
     },
     "execution_count": 7,
     "metadata": {},
     "output_type": "execute_result"
    }
   ],
   "source": [
    "data = os.getcwd() + \"/train_data.csv\" # os.getcwd() gets the current directory $(pwd)\n",
    "adult_brute = "
   ]
  },
  {
   "cell_type": "code",
   "execution_count": null,
   "id": "1c53691a",
   "metadata": {},
   "outputs": [],
   "source": []
  }
 ],
 "metadata": {
  "kernelspec": {
   "display_name": "Python 3 (ipykernel)",
   "language": "python",
   "name": "python3"
  },
  "language_info": {
   "codemirror_mode": {
    "name": "ipython",
    "version": 3
   },
   "file_extension": ".py",
   "mimetype": "text/x-python",
   "name": "python",
   "nbconvert_exporter": "python",
   "pygments_lexer": "ipython3",
   "version": "3.8.10"
  }
 },
 "nbformat": 4,
 "nbformat_minor": 5
}
