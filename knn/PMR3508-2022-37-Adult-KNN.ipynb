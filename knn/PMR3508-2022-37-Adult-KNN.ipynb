{
 "cells": [
  {
   "cell_type": "code",
   "execution_count": 1,
   "id": "064aac92",
   "metadata": {},
   "outputs": [],
   "source": [
    "## imports:\n",
    "# básicos\n",
    "import os\n",
    "import numpy as np\n",
    "# data\n",
    "import pandas as pd\n",
    "import sklearn as sk\n",
    "# plots\n",
    "from matplotlib import pyplot as plt\n",
    "from matplotlib import colors\n",
    "# stylish plots (comentar caso não tenha LaTeX)\n",
    "from matplotlib import rc\n",
    "plt.style.use('bmh')\n",
    "rc('font', **{'family': 'serif', 'serif': ['Computer Modern']})\n",
    "rc('text', usetex=True)"
   ]
  },
  {
   "cell_type": "code",
   "execution_count": 2,
   "id": "4147e2e9",
   "metadata": {},
   "outputs": [],
   "source": [
    "def cute_hist(ax, x, bins=10, title='Title',\n",
    "              xlabel='Data', ylabel='Frequency',\n",
    "              cmap='viridis', fontsize=14,\n",
    "              func=lambda a, b: (a/b)**2, df=False, show=True):\n",
    "    ax.set_xlabel(xlabel, fontsize=fontsize)\n",
    "    ax.set_ylabel(ylabel, fontsize=fontsize)\n",
    "    ax.set_title(title, fontsize=fontsize+2)\n",
    "    if not df:\n",
    "        n, bin_array, patches = ax.hist(x, bins)\n",
    "    else:\n",
    "        x.plot(kind='bar', ax=ax)\n",
    "        n = x.to_numpy()\n",
    "        patches = ax.patches\n",
    "    fracs = func(n, n.max())\n",
    "    norm = colors.Normalize(0, 1)\n",
    "    cm = plt.cm.get_cmap(name=cmap)\n",
    "    for frac, patch in zip(fracs, patches):\n",
    "        color = cm(norm(frac))\n",
    "        patch.set_facecolor(color)\n",
    "    if show:\n",
    "        plt.show()\n",
    "\n",
    "\n",
    "def cute_pie(ax, x, bins=10, title='Title',\n",
    "              xlabel='Data', ylabel='Frequency',\n",
    "              cmap='viridis', fontsize=14,\n",
    "              func=lambda a, b: (a/b)**2, df=False, show=True):\n",
    "    ax.set_xlabel(xlabel, fontsize=fontsize)\n",
    "    ax.set_ylabel(ylabel, fontsize=fontsize)\n",
    "    ax.set_title(title, fontsize=fontsize+2)\n",
    "    if not df:\n",
    "        n, bin_array, patches = ax.hist(x, bins)\n",
    "    else:\n",
    "        x.plot(kind='bar', ax=ax)\n",
    "        n = x.to_numpy()\n",
    "        patches = ax.patches\n",
    "    fracs = func(n, n.max())\n",
    "    norm = colors.Normalize(0, 1)\n",
    "    cm = plt.cm.get_cmap(name=cmap)\n",
    "    for frac, patch in zip(fracs, patches):\n",
    "        color = cm(norm(frac))\n",
    "        patch.set_facecolor(color)\n",
    "    if show:\n",
    "        plt.show()"
   ]
  },
  {
   "cell_type": "code",
   "execution_count": 3,
   "id": "a426f2f2",
   "metadata": {},
   "outputs": [
    {
     "data": {
      "text/html": [
       "<div>\n",
       "<style scoped>\n",
       "    .dataframe tbody tr th:only-of-type {\n",
       "        vertical-align: middle;\n",
       "    }\n",
       "\n",
       "    .dataframe tbody tr th {\n",
       "        vertical-align: top;\n",
       "    }\n",
       "\n",
       "    .dataframe thead th {\n",
       "        text-align: right;\n",
       "    }\n",
       "</style>\n",
       "<table border=\"1\" class=\"dataframe\">\n",
       "  <thead>\n",
       "    <tr style=\"text-align: right;\">\n",
       "      <th></th>\n",
       "      <th>ID</th>\n",
       "      <th>Age</th>\n",
       "      <th>Workclass</th>\n",
       "      <th>fnlwgt</th>\n",
       "      <th>Education</th>\n",
       "      <th>Education Number</th>\n",
       "      <th>Marital Status</th>\n",
       "      <th>Occupation</th>\n",
       "      <th>Relationship</th>\n",
       "      <th>Race</th>\n",
       "      <th>Sex</th>\n",
       "      <th>Capital Gain</th>\n",
       "      <th>Capital Loss</th>\n",
       "      <th>Hours per week</th>\n",
       "      <th>Country</th>\n",
       "      <th>Income</th>\n",
       "    </tr>\n",
       "  </thead>\n",
       "  <tbody>\n",
       "    <tr>\n",
       "      <th>0</th>\n",
       "      <td>16280</td>\n",
       "      <td>34</td>\n",
       "      <td>Private</td>\n",
       "      <td>204991</td>\n",
       "      <td>Some-college</td>\n",
       "      <td>10</td>\n",
       "      <td>Divorced</td>\n",
       "      <td>Exec-managerial</td>\n",
       "      <td>Own-child</td>\n",
       "      <td>White</td>\n",
       "      <td>Male</td>\n",
       "      <td>0</td>\n",
       "      <td>0</td>\n",
       "      <td>44</td>\n",
       "      <td>United-States</td>\n",
       "      <td>&lt;=50K</td>\n",
       "    </tr>\n",
       "    <tr>\n",
       "      <th>1</th>\n",
       "      <td>16281</td>\n",
       "      <td>58</td>\n",
       "      <td>Local-gov</td>\n",
       "      <td>310085</td>\n",
       "      <td>10th</td>\n",
       "      <td>6</td>\n",
       "      <td>Married-civ-spouse</td>\n",
       "      <td>Transport-moving</td>\n",
       "      <td>Husband</td>\n",
       "      <td>White</td>\n",
       "      <td>Male</td>\n",
       "      <td>0</td>\n",
       "      <td>0</td>\n",
       "      <td>40</td>\n",
       "      <td>United-States</td>\n",
       "      <td>&lt;=50K</td>\n",
       "    </tr>\n",
       "    <tr>\n",
       "      <th>2</th>\n",
       "      <td>16282</td>\n",
       "      <td>25</td>\n",
       "      <td>Private</td>\n",
       "      <td>146117</td>\n",
       "      <td>Some-college</td>\n",
       "      <td>10</td>\n",
       "      <td>Never-married</td>\n",
       "      <td>Machine-op-inspct</td>\n",
       "      <td>Not-in-family</td>\n",
       "      <td>White</td>\n",
       "      <td>Male</td>\n",
       "      <td>0</td>\n",
       "      <td>0</td>\n",
       "      <td>42</td>\n",
       "      <td>United-States</td>\n",
       "      <td>&lt;=50K</td>\n",
       "    </tr>\n",
       "    <tr>\n",
       "      <th>3</th>\n",
       "      <td>16283</td>\n",
       "      <td>24</td>\n",
       "      <td>Private</td>\n",
       "      <td>138938</td>\n",
       "      <td>Some-college</td>\n",
       "      <td>10</td>\n",
       "      <td>Divorced</td>\n",
       "      <td>Adm-clerical</td>\n",
       "      <td>Not-in-family</td>\n",
       "      <td>White</td>\n",
       "      <td>Female</td>\n",
       "      <td>0</td>\n",
       "      <td>0</td>\n",
       "      <td>40</td>\n",
       "      <td>United-States</td>\n",
       "      <td>&lt;=50K</td>\n",
       "    </tr>\n",
       "    <tr>\n",
       "      <th>4</th>\n",
       "      <td>16284</td>\n",
       "      <td>57</td>\n",
       "      <td>Self-emp-inc</td>\n",
       "      <td>258883</td>\n",
       "      <td>HS-grad</td>\n",
       "      <td>9</td>\n",
       "      <td>Married-civ-spouse</td>\n",
       "      <td>Transport-moving</td>\n",
       "      <td>Husband</td>\n",
       "      <td>White</td>\n",
       "      <td>Male</td>\n",
       "      <td>5178</td>\n",
       "      <td>0</td>\n",
       "      <td>60</td>\n",
       "      <td>Hungary</td>\n",
       "      <td>&gt;50K</td>\n",
       "    </tr>\n",
       "    <tr>\n",
       "      <th>...</th>\n",
       "      <td>...</td>\n",
       "      <td>...</td>\n",
       "      <td>...</td>\n",
       "      <td>...</td>\n",
       "      <td>...</td>\n",
       "      <td>...</td>\n",
       "      <td>...</td>\n",
       "      <td>...</td>\n",
       "      <td>...</td>\n",
       "      <td>...</td>\n",
       "      <td>...</td>\n",
       "      <td>...</td>\n",
       "      <td>...</td>\n",
       "      <td>...</td>\n",
       "      <td>...</td>\n",
       "      <td>...</td>\n",
       "    </tr>\n",
       "    <tr>\n",
       "      <th>32555</th>\n",
       "      <td>48835</td>\n",
       "      <td>42</td>\n",
       "      <td>Private</td>\n",
       "      <td>384236</td>\n",
       "      <td>Masters</td>\n",
       "      <td>14</td>\n",
       "      <td>Married-civ-spouse</td>\n",
       "      <td>Prof-specialty</td>\n",
       "      <td>Husband</td>\n",
       "      <td>White</td>\n",
       "      <td>Male</td>\n",
       "      <td>7688</td>\n",
       "      <td>0</td>\n",
       "      <td>40</td>\n",
       "      <td>United-States</td>\n",
       "      <td>&gt;50K</td>\n",
       "    </tr>\n",
       "    <tr>\n",
       "      <th>32556</th>\n",
       "      <td>48836</td>\n",
       "      <td>23</td>\n",
       "      <td>Private</td>\n",
       "      <td>129042</td>\n",
       "      <td>HS-grad</td>\n",
       "      <td>9</td>\n",
       "      <td>Never-married</td>\n",
       "      <td>Machine-op-inspct</td>\n",
       "      <td>Unmarried</td>\n",
       "      <td>Black</td>\n",
       "      <td>Female</td>\n",
       "      <td>0</td>\n",
       "      <td>0</td>\n",
       "      <td>40</td>\n",
       "      <td>United-States</td>\n",
       "      <td>&lt;=50K</td>\n",
       "    </tr>\n",
       "    <tr>\n",
       "      <th>32557</th>\n",
       "      <td>48837</td>\n",
       "      <td>30</td>\n",
       "      <td>Private</td>\n",
       "      <td>195488</td>\n",
       "      <td>HS-grad</td>\n",
       "      <td>9</td>\n",
       "      <td>Never-married</td>\n",
       "      <td>Priv-house-serv</td>\n",
       "      <td>Own-child</td>\n",
       "      <td>White</td>\n",
       "      <td>Female</td>\n",
       "      <td>0</td>\n",
       "      <td>0</td>\n",
       "      <td>40</td>\n",
       "      <td>Guatemala</td>\n",
       "      <td>&lt;=50K</td>\n",
       "    </tr>\n",
       "    <tr>\n",
       "      <th>32558</th>\n",
       "      <td>48838</td>\n",
       "      <td>18</td>\n",
       "      <td>Private</td>\n",
       "      <td>27620</td>\n",
       "      <td>HS-grad</td>\n",
       "      <td>9</td>\n",
       "      <td>Never-married</td>\n",
       "      <td>Adm-clerical</td>\n",
       "      <td>Not-in-family</td>\n",
       "      <td>White</td>\n",
       "      <td>Female</td>\n",
       "      <td>0</td>\n",
       "      <td>0</td>\n",
       "      <td>25</td>\n",
       "      <td>United-States</td>\n",
       "      <td>&lt;=50K</td>\n",
       "    </tr>\n",
       "    <tr>\n",
       "      <th>32559</th>\n",
       "      <td>48839</td>\n",
       "      <td>47</td>\n",
       "      <td>Local-gov</td>\n",
       "      <td>203067</td>\n",
       "      <td>Bachelors</td>\n",
       "      <td>13</td>\n",
       "      <td>Divorced</td>\n",
       "      <td>Prof-specialty</td>\n",
       "      <td>Not-in-family</td>\n",
       "      <td>White</td>\n",
       "      <td>Male</td>\n",
       "      <td>0</td>\n",
       "      <td>0</td>\n",
       "      <td>50</td>\n",
       "      <td>United-States</td>\n",
       "      <td>&lt;=50K</td>\n",
       "    </tr>\n",
       "  </tbody>\n",
       "</table>\n",
       "<p>32560 rows × 16 columns</p>\n",
       "</div>"
      ],
      "text/plain": [
       "          ID  Age     Workclass  fnlwgt     Education  Education Number  \\\n",
       "0      16280   34       Private  204991  Some-college                10   \n",
       "1      16281   58     Local-gov  310085          10th                 6   \n",
       "2      16282   25       Private  146117  Some-college                10   \n",
       "3      16283   24       Private  138938  Some-college                10   \n",
       "4      16284   57  Self-emp-inc  258883       HS-grad                 9   \n",
       "...      ...  ...           ...     ...           ...               ...   \n",
       "32555  48835   42       Private  384236       Masters                14   \n",
       "32556  48836   23       Private  129042       HS-grad                 9   \n",
       "32557  48837   30       Private  195488       HS-grad                 9   \n",
       "32558  48838   18       Private   27620       HS-grad                 9   \n",
       "32559  48839   47     Local-gov  203067     Bachelors                13   \n",
       "\n",
       "           Marital Status         Occupation   Relationship   Race     Sex  \\\n",
       "0                Divorced    Exec-managerial      Own-child  White    Male   \n",
       "1      Married-civ-spouse   Transport-moving        Husband  White    Male   \n",
       "2           Never-married  Machine-op-inspct  Not-in-family  White    Male   \n",
       "3                Divorced       Adm-clerical  Not-in-family  White  Female   \n",
       "4      Married-civ-spouse   Transport-moving        Husband  White    Male   \n",
       "...                   ...                ...            ...    ...     ...   \n",
       "32555  Married-civ-spouse     Prof-specialty        Husband  White    Male   \n",
       "32556       Never-married  Machine-op-inspct      Unmarried  Black  Female   \n",
       "32557       Never-married    Priv-house-serv      Own-child  White  Female   \n",
       "32558       Never-married       Adm-clerical  Not-in-family  White  Female   \n",
       "32559            Divorced     Prof-specialty  Not-in-family  White    Male   \n",
       "\n",
       "       Capital Gain  Capital Loss  Hours per week        Country Income  \n",
       "0                 0             0              44  United-States  <=50K  \n",
       "1                 0             0              40  United-States  <=50K  \n",
       "2                 0             0              42  United-States  <=50K  \n",
       "3                 0             0              40  United-States  <=50K  \n",
       "4              5178             0              60        Hungary   >50K  \n",
       "...             ...           ...             ...            ...    ...  \n",
       "32555          7688             0              40  United-States   >50K  \n",
       "32556             0             0              40  United-States  <=50K  \n",
       "32557             0             0              40      Guatemala  <=50K  \n",
       "32558             0             0              25  United-States  <=50K  \n",
       "32559             0             0              50  United-States  <=50K  \n",
       "\n",
       "[32560 rows x 16 columns]"
      ]
     },
     "execution_count": 3,
     "metadata": {},
     "output_type": "execute_result"
    }
   ],
   "source": [
    "data_csv = os.getcwd() + \"/train_data.csv\" # os.getcwd() gets the current directory $(pwd)\n",
    "features=[\"ID\", \"Age\", \"Workclass\", \"fnlwgt\", \"Education\",\n",
    "    \"Education Number\", \"Marital Status\", \"Occupation\",\n",
    "    \"Relationship\", \"Race\", \"Sex\", \"Capital Gain\",\n",
    "    \"Capital Loss\", \"Hours per week\", \"Country\",\n",
    "    \"Income\"]\n",
    "a = pd.read_csv(data_csv, names=features,\n",
    "    sep=',', engine='python', na_values='?',\n",
    "    header=0)\n",
    "a"
   ]
  },
  {
   "cell_type": "code",
   "execution_count": 4,
   "id": "255c1695",
   "metadata": {},
   "outputs": [
    {
     "data": {
      "text/plain": [
       "United-States                 29169\n",
       "Mexico                          643\n",
       "Philippines                     198\n",
       "Germany                         137\n",
       "Canada                          121\n",
       "Puerto-Rico                     114\n",
       "El-Salvador                     106\n",
       "India                           100\n",
       "Cuba                             95\n",
       "England                          90\n",
       "Jamaica                          81\n",
       "South                            80\n",
       "China                            75\n",
       "Italy                            73\n",
       "Dominican-Republic               70\n",
       "Vietnam                          67\n",
       "Guatemala                        64\n",
       "Japan                            62\n",
       "Poland                           60\n",
       "Columbia                         59\n",
       "Taiwan                           51\n",
       "Haiti                            44\n",
       "Iran                             43\n",
       "Portugal                         37\n",
       "Nicaragua                        34\n",
       "Peru                             31\n",
       "France                           29\n",
       "Greece                           29\n",
       "Ecuador                          28\n",
       "Ireland                          24\n",
       "Hong                             20\n",
       "Cambodia                         19\n",
       "Trinadad&Tobago                  19\n",
       "Thailand                         18\n",
       "Laos                             18\n",
       "Yugoslavia                       16\n",
       "Outlying-US(Guam-USVI-etc)       14\n",
       "Hungary                          13\n",
       "Honduras                         13\n",
       "Scotland                         12\n",
       "Holand-Netherlands                1\n",
       "Name: Country, dtype: int64"
      ]
     },
     "execution_count": 4,
     "metadata": {},
     "output_type": "execute_result"
    }
   ],
   "source": [
    "a[\"Country\"].value_counts()"
   ]
  },
  {
   "cell_type": "code",
   "execution_count": 5,
   "id": "e0f1d649",
   "metadata": {
    "scrolled": false
   },
   "outputs": [
    {
     "data": {
      "image/png": "[encoded data removed]",
      "text/plain": [
       "<Figure size 432x288 with 1 Axes>"
      ]
     },
     "metadata": {
      "needs_background": "light"
     },
     "output_type": "display_data"
    }
   ],
   "source": [
    "fig, ax = plt.subplots()\n",
    "cute_hist(ax=ax, x=a['Age'], bins=(a['Age'].max() - a['Age'].min()),\n",
    "          title='Histogram of Ages', xlabel='Ages', ylabel='Number of people')"
   ]
  },
  {
   "cell_type": "code",
   "execution_count": 6,
   "id": "f2fe436c",
   "metadata": {},
   "outputs": [
    {
     "data": {
      "text/plain": [
       "White                 27815\n",
       "Black                  3124\n",
       "Asian-Pac-Islander     1039\n",
       "Amer-Indian-Eskimo      311\n",
       "Other                   271\n",
       "Name: Race, dtype: int64"
      ]
     },
     "execution_count": 6,
     "metadata": {},
     "output_type": "execute_result"
    }
   ],
   "source": [
    "a[\"Race\"].value_counts()"
   ]
  },
  {
   "cell_type": "code",
   "execution_count": 7,
   "id": "19020f9a",
   "metadata": {},
   "outputs": [
    {
     "data": {
      "text/plain": [
       "White                 27815\n",
       "Black                  3124\n",
       "Asian-Pac-Islander     1039\n",
       "Amer-Indian-Eskimo      311\n",
       "Other                   271\n",
       "Name: Race, dtype: int64"
      ]
     },
     "execution_count": 7,
     "metadata": {},
     "output_type": "execute_result"
    }
   ],
   "source": [
    "a[\"Race\"].value_counts()"
   ]
  },
  {
   "cell_type": "code",
   "execution_count": 8,
   "id": "bd5538ae",
   "metadata": {},
   "outputs": [
    {
     "data": {
      "text/plain": [
       "Male      21789\n",
       "Female    10771\n",
       "Name: Sex, dtype: int64"
      ]
     },
     "execution_count": 8,
     "metadata": {},
     "output_type": "execute_result"
    }
   ],
   "source": [
    "a[\"Sex\"].value_counts()"
   ]
  },
  {
   "cell_type": "code",
   "execution_count": 9,
   "id": "77c43236",
   "metadata": {
    "scrolled": true
   },
   "outputs": [
    {
     "data": {
      "image/png": "[encoded data removed]",
      "text/plain": [
       "<Figure size 432x288 with 1 Axes>"
      ]
     },
     "metadata": {},
     "output_type": "display_data"
    }
   ],
   "source": [
    "fig, ax = plt.subplots()\n",
    "a['Sex'].value_counts().plot(kind='pie', autopct='%1.1f',\n",
    "        shadow=True, startangle=90, ax=ax, explode=[0, 0.1])\n",
    "#  explode=explode,  labels=labels\n",
    "plt.show()"
   ]
  },
  {
   "cell_type": "code",
   "execution_count": 10,
   "id": "bd623d96",
   "metadata": {
    "scrolled": true
   },
   "outputs": [
    {
     "data": {
      "image/png": "[encoded data removed]",
      "text/plain": [
       "<Figure size 432x288 with 1 Axes>"
      ]
     },
     "metadata": {
      "needs_background": "light"
     },
     "output_type": "display_data"
    }
   ],
   "source": [
    "fig, ax = plt.subplots()\n",
    "cute_hist(ax=ax, x=a['Sex'].value_counts(), bins=2,\n",
    "          title='Male vs. Female', cmap='bwr',\n",
    "          xlabel='Sex', ylabel='Number of people',\n",
    "          func=lambda x, xmax: (x/xmax < 1/2), df=True)"
   ]
  },
  {
   "cell_type": "markdown",
   "id": "8e4a43ac",
   "metadata": {},
   "source": [
    "#### We can see below that 'Education' and 'Education Number' are actually the same feature."
   ]
  },
  {
   "cell_type": "code",
   "execution_count": 11,
   "id": "1286785b",
   "metadata": {
    "scrolled": true
   },
   "outputs": [
    {
     "data": {
      "image/png": "[encoded data removed]",
      "text/plain": [
       "<Figure size 432x288 with 2 Axes>"
      ]
     },
     "metadata": {
      "needs_background": "light"
     },
     "output_type": "display_data"
    }
   ],
   "source": [
    "fig, (ax1, ax2) = plt.subplots(nrows=1, ncols=2, sharey=True)\n",
    "\n",
    "cute_hist(ax=ax1, x=a['Education'].value_counts(), title='',\n",
    "          xlabel='Education', ylabel='Number of people',\n",
    "          cmap='gist_rainbow', df=True, show=False,\n",
    "          func=lambda a,b: np.sqrt(np.linspace(0, 1, num=len(a))))\n",
    "\n",
    "cute_hist(ax=ax2, x=a['Education Number'].value_counts(), title='',\n",
    "          xlabel='Education Number', ylabel='Number of people',\n",
    "          cmap='gist_rainbow', df=True, show=False,\n",
    "          func=lambda a,b: np.sqrt(np.linspace(0, 1, num=len(a))))\n",
    "\n",
    "fig.suptitle('Comparison: Education vs. Education Number', fontsize=18)\n",
    "plt.show()"
   ]
  },
  {
   "cell_type": "code",
   "execution_count": 12,
   "id": "d2fd0882",
   "metadata": {
    "scrolled": true
   },
   "outputs": [
    {
     "data": {
      "image/png": "[encoded data removed]",
      "text/plain": [
       "<Figure size 432x288 with 1 Axes>"
      ]
     },
     "metadata": {
      "needs_background": "light"
     },
     "output_type": "display_data"
    }
   ],
   "source": [
    "fig, ax = plt.subplots()\n",
    "cute_hist(ax=ax, x=a['Education Number'], title='',\n",
    "          xlabel='Education Number', ylabel='Number of people',\n",
    "          cmap='viridis', df=False, show=True, bins=16, func=lambda a,b: (a/b)**(1/1.5))"
   ]
  },
  {
   "cell_type": "markdown",
   "id": "f562ce74",
   "metadata": {},
   "source": [
    "#### We are going to use `Education Number`, removing the `Education` feature."
   ]
  },
  {
   "cell_type": "code",
   "execution_count": 13,
   "id": "3dba145c",
   "metadata": {},
   "outputs": [],
   "source": [
    "a.drop(columns='Education');"
   ]
  },
  {
   "cell_type": "code",
   "execution_count": 14,
   "id": "8ec0d617",
   "metadata": {},
   "outputs": [
    {
     "data": {
      "image/png": "[encoded data removed]",
      "text/plain": [
       "<Figure size 432x288 with 1 Axes>"
      ]
     },
     "metadata": {
      "needs_background": "light"
     },
     "output_type": "display_data"
    }
   ],
   "source": [
    "fig, ax = plt.subplots()\n",
    "cute_hist(ax=ax, x=a['Occupation'].value_counts(), title='Histogram of occupation',\n",
    "          xlabel='Occupation', ylabel='Number of people',\n",
    "          cmap='gist_rainbow', df=True,\n",
    "          func=lambda a,b: np.sqrt(np.linspace(0, 1, num=len(a))))"
   ]
  },
  {
   "cell_type": "code",
   "execution_count": 15,
   "id": "6cdb6361",
   "metadata": {},
   "outputs": [
    {
     "data": {
      "text/plain": [
       "(30161, 16)"
      ]
     },
     "execution_count": 15,
     "metadata": {},
     "output_type": "execute_result"
    }
   ],
   "source": [
    "adult = a.dropna();\n",
    "adult.shape"
   ]
  },
  {
   "cell_type": "code",
   "execution_count": null,
   "id": "adad0998",
   "metadata": {},
   "outputs": [],
   "source": []
  }
 ],
 "metadata": {
  "kernelspec": {
   "display_name": "Python 3",
   "language": "python",
   "name": "python3"
  },
  "language_info": {
   "codemirror_mode": {
    "name": "ipython",
    "version": 3
   },
   "file_extension": ".py",
   "mimetype": "text/x-python",
   "name": "python",
   "nbconvert_exporter": "python",
   "pygments_lexer": "ipython3",
   "version": "3.10.7"
  }
 },
 "nbformat": 4,
 "nbformat_minor": 5
}
